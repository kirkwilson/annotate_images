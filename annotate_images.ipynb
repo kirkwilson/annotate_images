{
  "nbformat": 4,
  "nbformat_minor": 0,
  "metadata": {
    "colab": {
      "provenance": [],
      "authorship_tag": "ABX9TyP03V0+rq8nxrmMyFx2ok3N",
      "include_colab_link": true
    },
    "kernelspec": {
      "name": "python3",
      "display_name": "Python 3"
    },
    "language_info": {
      "name": "python"
    }
  },
  "cells": [
    {
      "cell_type": "markdown",
      "metadata": {
        "id": "view-in-github",
        "colab_type": "text"
      },
      "source": [
        "<a href=\"https://colab.research.google.com/github/kirkwilson/annotate_images/blob/main/annotate_images.ipynb\" target=\"_parent\"><img src=\"https://colab.research.google.com/assets/colab-badge.svg\" alt=\"Open In Colab\"/></a>"
      ]
    },
    {
      "cell_type": "markdown",
      "source": [
        "**upload files**\n",
        "*   needs to be png for jpeg\n",
        "*   can be a zip of images\n",
        "\n",
        "**write text**\n",
        "*   variable for text to write\n",
        "*   standard position on image (bottom left corner based on percentage)\n",
        "\n",
        "**export files**\n",
        "*   export image\n",
        "*   zip if multiple files"
      ],
      "metadata": {
        "id": "R5pBwBLfA9zz"
      }
    },
    {
      "cell_type": "code",
      "source": [
        "TEXT = 'Lorem ipsum...' #@param {type:\"string\"}\n",
        "BUFFER_PERCENT = 0.05 #@param {type:\"number\"}\n",
        "TEXT_HEIGHT_PERCENT = 0.05 #@param {type:\"number\"}"
      ],
      "metadata": {
        "cellView": "form",
        "id": "n08aCZ4oK6KT"
      },
      "execution_count": 2,
      "outputs": []
    },
    {
      "cell_type": "code",
      "source": [
        "import os.path\n",
        "import zipfile\n",
        "from google.colab import files\n",
        "from PIL import Image, ImageFont, ImageDraw"
      ],
      "metadata": {
        "id": "D4mhYE9F8Jv2"
      },
      "execution_count": 3,
      "outputs": []
    },
    {
      "cell_type": "code",
      "source": [
        "DIRECTORY = '/content/decompressed_files/'\n",
        "FONT_LOCATION = 'LiberationSerif-Regular.ttf'\n",
        "\n",
        "def upload_files():\n",
        "  dict_files = files.upload()\n",
        "  return dict_files\n",
        "\n",
        "def decompress_file(file_name):\n",
        "  with zipfile.ZipFile(file_name, 'r') as zip_ref:\n",
        "    zip_ref.extractall(DIRECTORY)\n",
        "\n",
        "def decompress_files(files):\n",
        "  for file_name in files.keys():\n",
        "    decompress_file(file_name)\n",
        "\n",
        "def upload_and_decompress():\n",
        "  files = upload_files()\n",
        "  decompress_files(files)\n",
        "\n",
        "def text_bbox(image, buffer, text_height):\n",
        "  right = image.width - (image.width * (buffer + buffer))\n",
        "  bottom = image.height * text_height\n",
        "  return (0, 0, right, bottom)\n",
        "  \n",
        "def text_anchor(image, buffer, text_height):\n",
        "  x = image.width*buffer\n",
        "  y = image.height-(image.height*(buffer+buffer+text_height))\n",
        "  return (x, y)\n",
        "\n",
        "def stroke_size(font):\n",
        "  pixel_height = bbox_dimensions(font)[1]\n",
        "  stroke_width = int(pixel_height*0.1)\n",
        "  if stroke_width == 0:\n",
        "    stroke_width = 1\n",
        "  return stroke_width\n",
        "\n",
        "def create_font(font_location, font_size=12):\n",
        "  font = ImageFont.truetype(font_location, font_size)\n",
        "  return font\n",
        "\n",
        "def font_text_bbox(font, text):\n",
        "  return font.getbbox(text)\n",
        "\n",
        "def bbox_dimensions(bbox):\n",
        "  width = bbox[2] - bbox[0]\n",
        "  height = bbox[3] - bbox[1]\n",
        "  return (width, height)\n",
        "\n",
        "def can_a_fit_in_b(a, b):\n",
        "  a = bbox_dimensions(a)\n",
        "  b = bbox_dimensions(b)\n",
        "  return a<=b\n",
        "\n",
        "def annotated_file_name(file_name):\n",
        "  name, extension = file_name.split('.')\n",
        "  annotated = name + '_annotated.' + extension\n",
        "  return annotated\n",
        "\n",
        "# def walk_directory():\n",
        "#   for root, dirs, files in os.walk(DIRECTORY):\n",
        "#     for file in files:"
      ],
      "metadata": {
        "id": "w0YmfmAc68Zr"
      },
      "execution_count": 4,
      "outputs": []
    },
    {
      "cell_type": "code",
      "source": [
        "file_name = 'example-img.png'\n",
        "\n",
        "img = Image.open(file_name)\n",
        "\n",
        "text_area = text_bbox(img, BUFFER_PERCENT, TEXT_HEIGHT_PERCENT)\n",
        "anchor = text_anchor(img, BUFFER_PERCENT, TEXT_HEIGHT_PERCENT)\n",
        "\n",
        "draw = ImageDraw.Draw(img)\n",
        "\n",
        "font = create_font(FONT_LOCATION, 35)\n",
        "font_area = font_text_bbox(font, TEXT)\n",
        "\n",
        "if can_a_fit_in_b(font_area, text_area):\n",
        "  stroke_width = stroke_size(font_area)\n",
        "  draw.text(anchor, TEXT, \n",
        "            font=font, stroke_width=stroke_width, stroke_fill='black')\n",
        "  img.save(annotated_file_name(file_name))\n",
        "\n",
        "# todo:\n",
        "# write function to check pixles between two sets of dimensions\n",
        "# sort to to find the largest font size that fits in the text box"
      ],
      "metadata": {
        "id": "sQ5x1XEf6tpc",
        "colab": {
          "base_uri": "https://localhost:8080/"
        },
        "outputId": "bf27a2db-9d8c-4c86-80d9-28ff96654b7f"
      },
      "execution_count": 5,
      "outputs": [
        {
          "output_type": "stream",
          "name": "stdout",
          "text": [
            "example-img_annotated.png\n"
          ]
        }
      ]
    }
  ]
}