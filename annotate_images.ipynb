{
  "nbformat": 4,
  "nbformat_minor": 0,
  "metadata": {
    "colab": {
      "provenance": [],
      "authorship_tag": "ABX9TyPww5MW03C+r9+2v63k7rqe",
      "include_colab_link": true
    },
    "kernelspec": {
      "name": "python3",
      "display_name": "Python 3"
    },
    "language_info": {
      "name": "python"
    }
  },
  "cells": [
    {
      "cell_type": "markdown",
      "metadata": {
        "id": "view-in-github",
        "colab_type": "text"
      },
      "source": [
        "<a href=\"https://colab.research.google.com/github/kirkwilson/annotate_images/blob/main/annotate_images.ipynb\" target=\"_parent\"><img src=\"https://colab.research.google.com/assets/colab-badge.svg\" alt=\"Open In Colab\"/></a>"
      ]
    },
    {
      "cell_type": "markdown",
      "source": [
        "**upload files**\n",
        "*   needs to be png for jpeg\n",
        "*   can be a zip of images\n",
        "\n",
        "**write text**\n",
        "*   variable for text to write\n",
        "*   standard position on image (bottom left corner based on percentage)\n",
        "\n",
        "**export files**\n",
        "*   export image\n",
        "*   zip if multiple files"
      ],
      "metadata": {
        "id": "R5pBwBLfA9zz"
      }
    },
    {
      "cell_type": "code",
      "source": [
        "import os.path\n",
        "import zipfile\n",
        "from google.colab import files\n",
        "from PIL import Image, ImageFont, ImageDraw "
      ],
      "metadata": {
        "id": "D4mhYE9F8Jv2"
      },
      "execution_count": 7,
      "outputs": []
    },
    {
      "cell_type": "code",
      "source": [
        "DIRECTORY = '/content/decompressed_files/'\n",
        "TEXT = 'Lorem ipsum...'\n",
        "\n",
        "def upload_files():\n",
        "  dict_files = files.upload()\n",
        "  return dict_files\n",
        "\n",
        "def decompress_file(file_name):\n",
        "    with zipfile.ZipFile(file_name, 'r') as zip_ref:\n",
        "      zip_ref.extractall(DIRECTORY)\n",
        "\n",
        "def decompress_files(files):\n",
        "  for file_name in files.keys():\n",
        "    decompress_file(file_name)\n",
        "\n",
        "def upload_and_decompress():\n",
        "  files = upload_files()\n",
        "  decompress_files(files)\n",
        "\n",
        "# def walk_directory():\n",
        "#   for root, dirs, files in os.walk(DIRECTORY):\n",
        "#     for file in files:"
      ],
      "metadata": {
        "id": "w0YmfmAc68Zr"
      },
      "execution_count": 8,
      "outputs": []
    },
    {
      "cell_type": "code",
      "source": [
        "# upload_and_decompress()\n",
        "\n",
        "# for root, dirs, files in os.walk('/content/decompressed_files/'):\n",
        "#   for file in files:\n",
        "#     print(file)\n",
        "\n",
        "# upload_files()\n",
        "\n",
        "img = Image.open('./example-img.png')\n",
        "\n",
        "d = ImageDraw.Draw(img)\n",
        "font = ImageFont.truetype('LiberationSerif-Regular.ttf', size=12)\n",
        "# d.text((10, 260), TEXT, fill='white', font=font,\n",
        "#        stroke_width=2, stroke_fill='black')\n",
        "# img.save('example-output.png')\n",
        "\n",
        "# (left, top, right, bottom)\n",
        "# print(font.getbbox(TEXT))\n",
        "print(img.getbbox())"
      ],
      "metadata": {
        "id": "sQ5x1XEf6tpc",
        "colab": {
          "base_uri": "https://localhost:8080/"
        },
        "outputId": "5e11e7a7-e7c9-4e93-d994-85f9299b5e76"
      },
      "execution_count": 15,
      "outputs": [
        {
          "output_type": "stream",
          "name": "stdout",
          "text": [
            "(0, 0, 260, 350)\n"
          ]
        }
      ]
    }
  ]
}